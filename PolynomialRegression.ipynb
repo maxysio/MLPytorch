{
  "nbformat": 4,
  "nbformat_minor": 0,
  "metadata": {
    "colab": {
      "name": "PolynomialRegression.ipynb",
      "provenance": [],
      "mount_file_id": "https://github.com/maxysio/MLPytorch/blob/master/PolynomialRegression.ipynb",
      "authorship_tag": "ABX9TyOinY7z3O9F0Am+3JN6P+y1",
      "include_colab_link": true
    },
    "kernelspec": {
      "name": "python3",
      "display_name": "Python 3"
    }
  },
  "cells": [
    {
      "cell_type": "markdown",
      "metadata": {
        "id": "view-in-github",
        "colab_type": "text"
      },
      "source": [
        "<a href=\"https://colab.research.google.com/github/maxysio/MLPytorch/blob/master/PolynomialRegression.ipynb\" target=\"_parent\"><img src=\"https://colab.research.google.com/assets/colab-badge.svg\" alt=\"Open In Colab\"/></a>"
      ]
    },
    {
      "cell_type": "code",
      "metadata": {
        "id": "9Fww7mYEHS8t",
        "colab_type": "code",
        "colab": {}
      },
      "source": [
        "# TODO: Add import statements\n",
        "import numpy as np\n",
        "import pandas as pd\n",
        "from sklearn.linear_model import LinearRegression\n",
        "from sklearn.preprocessing import PolynomialFeatures"
      ],
      "execution_count": 0,
      "outputs": []
    },
    {
      "cell_type": "code",
      "metadata": {
        "id": "hyK_ovaRKmI1",
        "colab_type": "code",
        "colab": {}
      },
      "source": [
        "# Assign the data to predictor and outcome variables\n",
        "# TODO: Load the data\n",
        "train_data = pd.read_csv('/content/drive/My Drive/Colab Notebooks/MLPytorch/poly_data.csv')"
      ],
      "execution_count": 0,
      "outputs": []
    },
    {
      "cell_type": "code",
      "metadata": {
        "id": "shYxdZYhKr46",
        "colab_type": "code",
        "colab": {
          "base_uri": "https://localhost:8080/",
          "height": 204
        },
        "outputId": "ba2ed7c4-02b1-46b3-c5ee-aa0491a0d03b"
      },
      "source": [
        "train_data.head()"
      ],
      "execution_count": 8,
      "outputs": [
        {
          "output_type": "execute_result",
          "data": {
            "text/html": [
              "<div>\n",
              "<style scoped>\n",
              "    .dataframe tbody tr th:only-of-type {\n",
              "        vertical-align: middle;\n",
              "    }\n",
              "\n",
              "    .dataframe tbody tr th {\n",
              "        vertical-align: top;\n",
              "    }\n",
              "\n",
              "    .dataframe thead th {\n",
              "        text-align: right;\n",
              "    }\n",
              "</style>\n",
              "<table border=\"1\" class=\"dataframe\">\n",
              "  <thead>\n",
              "    <tr style=\"text-align: right;\">\n",
              "      <th></th>\n",
              "      <th>Var_X</th>\n",
              "      <th>Var_Y</th>\n",
              "    </tr>\n",
              "  </thead>\n",
              "  <tbody>\n",
              "    <tr>\n",
              "      <th>0</th>\n",
              "      <td>-0.33532</td>\n",
              "      <td>6.66854</td>\n",
              "    </tr>\n",
              "    <tr>\n",
              "      <th>1</th>\n",
              "      <td>0.02160</td>\n",
              "      <td>3.86398</td>\n",
              "    </tr>\n",
              "    <tr>\n",
              "      <th>2</th>\n",
              "      <td>-1.19438</td>\n",
              "      <td>5.16161</td>\n",
              "    </tr>\n",
              "    <tr>\n",
              "      <th>3</th>\n",
              "      <td>-0.65046</td>\n",
              "      <td>8.43823</td>\n",
              "    </tr>\n",
              "    <tr>\n",
              "      <th>4</th>\n",
              "      <td>-0.28001</td>\n",
              "      <td>5.57201</td>\n",
              "    </tr>\n",
              "  </tbody>\n",
              "</table>\n",
              "</div>"
            ],
            "text/plain": [
              "     Var_X    Var_Y\n",
              "0 -0.33532  6.66854\n",
              "1  0.02160  3.86398\n",
              "2 -1.19438  5.16161\n",
              "3 -0.65046  8.43823\n",
              "4 -0.28001  5.57201"
            ]
          },
          "metadata": {
            "tags": []
          },
          "execution_count": 8
        }
      ]
    },
    {
      "cell_type": "code",
      "metadata": {
        "id": "ol_DRnZ5KuV6",
        "colab_type": "code",
        "colab": {}
      },
      "source": [
        "X = train_data['Var_X'].values.reshape(-1, 1)\n",
        "y = train_data['Var_Y'].values"
      ],
      "execution_count": 0,
      "outputs": []
    },
    {
      "cell_type": "code",
      "metadata": {
        "id": "DAZh6Z4xLkeL",
        "colab_type": "code",
        "colab": {}
      },
      "source": [
        "# Create polynomial features\n",
        "# TODO: Create a PolynomialFeatures object, then fit and transform the\n",
        "# predictor feature\n",
        "poly_feat = PolynomialFeatures(degree = 4)\n",
        "X_poly = poly_feat.fit_transform(X)"
      ],
      "execution_count": 0,
      "outputs": []
    },
    {
      "cell_type": "code",
      "metadata": {
        "id": "zpHHj_7OLnJM",
        "colab_type": "code",
        "colab": {}
      },
      "source": [
        "# Make and fit the polynomial regression model\n",
        "# TODO: Create a LinearRegression object and fit it to the polynomial predictor\n",
        "# features\n",
        "poly_model = LinearRegression(fit_intercept = False).fit(X_poly, y)"
      ],
      "execution_count": 0,
      "outputs": []
    },
    {
      "cell_type": "code",
      "metadata": {
        "id": "N5AgQQ7bLxQj",
        "colab_type": "code",
        "colab": {}
      },
      "source": [
        ""
      ],
      "execution_count": 0,
      "outputs": []
    }
  ]
}